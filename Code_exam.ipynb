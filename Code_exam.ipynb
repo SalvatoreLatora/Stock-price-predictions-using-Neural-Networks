{
 "cells": [
  {
   "cell_type": "code",
   "execution_count": 11,
   "metadata": {},
   "outputs": [],
   "source": [
    "import pandas as pd\n",
    "import numpy as np\n",
    "import matplotlib.pyplot as plt\n",
    "import seaborn as sb"
   ]
  },
  {
   "cell_type": "code",
   "execution_count": 14,
   "metadata": {},
   "outputs": [
    {
     "ename": "HTTPError",
     "evalue": "HTTP Error 404: Not Found",
     "output_type": "error",
     "traceback": [
      "\u001b[1;31m---------------------------------------------------------------------------\u001b[0m",
      "\u001b[1;31mHTTPError\u001b[0m                                 Traceback (most recent call last)",
      "\u001b[1;32mSalvatoreLatora\\Stock-price-predictions-using-Neural-Networks\\Code_exam.ipynb Cell 2'\u001b[0m in \u001b[0;36m<cell line: 7>\u001b[1;34m()\u001b[0m\n\u001b[0;32m      <a href='vscode-notebook-cell://github/SalvatoreLatora/Stock-price-predictions-using-Neural-Networks/Code_exam.ipynb#ch0000001vscode-vfs?line=4'>5</a>\u001b[0m JPM \u001b[39m=\u001b[39m pd\u001b[39m.\u001b[39mread_csv(\u001b[39m\"\u001b[39m\u001b[39mE:/Laurea Magistrale/Artificial intelligence and deep learning/Esame/Financial Series/JPM.csv\u001b[39m\u001b[39m\"\u001b[39m)\n\u001b[0;32m      <a href='vscode-notebook-cell://github/SalvatoreLatora/Stock-price-predictions-using-Neural-Networks/Code_exam.ipynb#ch0000001vscode-vfs?line=5'>6</a>\u001b[0m BA\u001b[39m=\u001b[39m pd\u001b[39m.\u001b[39mread_csv(\u001b[39m\"\u001b[39m\u001b[39mE:/Laurea Magistrale/Artificial intelligence and deep learning/Esame/Financial Series/BA.csv\u001b[39m\u001b[39m\"\u001b[39m)\n\u001b[1;32m----> <a href='vscode-notebook-cell://github/SalvatoreLatora/Stock-price-predictions-using-Neural-Networks/Code_exam.ipynb#ch0000001vscode-vfs?line=6'>7</a>\u001b[0m JNJ \u001b[39m=\u001b[39m pd\u001b[39m.\u001b[39;49mread_csv(\u001b[39m\"\u001b[39;49m\u001b[39mhttps://github.com/SalvatoreLatora/Stock-price-predictions-using-Neural-Networks/Financial_Series_dataset/JNJ.csv?raw=True\u001b[39;49m\u001b[39m\"\u001b[39;49m)\n",
      "File \u001b[1;32mc:\\Users\\ASUS\\AppData\\Local\\Programs\\Python\\Python39\\lib\\site-packages\\pandas\\util\\_decorators.py:311\u001b[0m, in \u001b[0;36mdeprecate_nonkeyword_arguments.<locals>.decorate.<locals>.wrapper\u001b[1;34m(*args, **kwargs)\u001b[0m\n\u001b[0;32m    <a href='file:///c%3A/Users/ASUS/AppData/Local/Programs/Python/Python39/lib/site-packages/pandas/util/_decorators.py?line=304'>305</a>\u001b[0m \u001b[39mif\u001b[39;00m \u001b[39mlen\u001b[39m(args) \u001b[39m>\u001b[39m num_allow_args:\n\u001b[0;32m    <a href='file:///c%3A/Users/ASUS/AppData/Local/Programs/Python/Python39/lib/site-packages/pandas/util/_decorators.py?line=305'>306</a>\u001b[0m     warnings\u001b[39m.\u001b[39mwarn(\n\u001b[0;32m    <a href='file:///c%3A/Users/ASUS/AppData/Local/Programs/Python/Python39/lib/site-packages/pandas/util/_decorators.py?line=306'>307</a>\u001b[0m         msg\u001b[39m.\u001b[39mformat(arguments\u001b[39m=\u001b[39marguments),\n\u001b[0;32m    <a href='file:///c%3A/Users/ASUS/AppData/Local/Programs/Python/Python39/lib/site-packages/pandas/util/_decorators.py?line=307'>308</a>\u001b[0m         \u001b[39mFutureWarning\u001b[39;00m,\n\u001b[0;32m    <a href='file:///c%3A/Users/ASUS/AppData/Local/Programs/Python/Python39/lib/site-packages/pandas/util/_decorators.py?line=308'>309</a>\u001b[0m         stacklevel\u001b[39m=\u001b[39mstacklevel,\n\u001b[0;32m    <a href='file:///c%3A/Users/ASUS/AppData/Local/Programs/Python/Python39/lib/site-packages/pandas/util/_decorators.py?line=309'>310</a>\u001b[0m     )\n\u001b[1;32m--> <a href='file:///c%3A/Users/ASUS/AppData/Local/Programs/Python/Python39/lib/site-packages/pandas/util/_decorators.py?line=310'>311</a>\u001b[0m \u001b[39mreturn\u001b[39;00m func(\u001b[39m*\u001b[39margs, \u001b[39m*\u001b[39m\u001b[39m*\u001b[39mkwargs)\n",
      "File \u001b[1;32mc:\\Users\\ASUS\\AppData\\Local\\Programs\\Python\\Python39\\lib\\site-packages\\pandas\\io\\parsers\\readers.py:680\u001b[0m, in \u001b[0;36mread_csv\u001b[1;34m(filepath_or_buffer, sep, delimiter, header, names, index_col, usecols, squeeze, prefix, mangle_dupe_cols, dtype, engine, converters, true_values, false_values, skipinitialspace, skiprows, skipfooter, nrows, na_values, keep_default_na, na_filter, verbose, skip_blank_lines, parse_dates, infer_datetime_format, keep_date_col, date_parser, dayfirst, cache_dates, iterator, chunksize, compression, thousands, decimal, lineterminator, quotechar, quoting, doublequote, escapechar, comment, encoding, encoding_errors, dialect, error_bad_lines, warn_bad_lines, on_bad_lines, delim_whitespace, low_memory, memory_map, float_precision, storage_options)\u001b[0m\n\u001b[0;32m    <a href='file:///c%3A/Users/ASUS/AppData/Local/Programs/Python/Python39/lib/site-packages/pandas/io/parsers/readers.py?line=664'>665</a>\u001b[0m kwds_defaults \u001b[39m=\u001b[39m _refine_defaults_read(\n\u001b[0;32m    <a href='file:///c%3A/Users/ASUS/AppData/Local/Programs/Python/Python39/lib/site-packages/pandas/io/parsers/readers.py?line=665'>666</a>\u001b[0m     dialect,\n\u001b[0;32m    <a href='file:///c%3A/Users/ASUS/AppData/Local/Programs/Python/Python39/lib/site-packages/pandas/io/parsers/readers.py?line=666'>667</a>\u001b[0m     delimiter,\n\u001b[1;32m   (...)\u001b[0m\n\u001b[0;32m    <a href='file:///c%3A/Users/ASUS/AppData/Local/Programs/Python/Python39/lib/site-packages/pandas/io/parsers/readers.py?line=675'>676</a>\u001b[0m     defaults\u001b[39m=\u001b[39m{\u001b[39m\"\u001b[39m\u001b[39mdelimiter\u001b[39m\u001b[39m\"\u001b[39m: \u001b[39m\"\u001b[39m\u001b[39m,\u001b[39m\u001b[39m\"\u001b[39m},\n\u001b[0;32m    <a href='file:///c%3A/Users/ASUS/AppData/Local/Programs/Python/Python39/lib/site-packages/pandas/io/parsers/readers.py?line=676'>677</a>\u001b[0m )\n\u001b[0;32m    <a href='file:///c%3A/Users/ASUS/AppData/Local/Programs/Python/Python39/lib/site-packages/pandas/io/parsers/readers.py?line=677'>678</a>\u001b[0m kwds\u001b[39m.\u001b[39mupdate(kwds_defaults)\n\u001b[1;32m--> <a href='file:///c%3A/Users/ASUS/AppData/Local/Programs/Python/Python39/lib/site-packages/pandas/io/parsers/readers.py?line=679'>680</a>\u001b[0m \u001b[39mreturn\u001b[39;00m _read(filepath_or_buffer, kwds)\n",
      "File \u001b[1;32mc:\\Users\\ASUS\\AppData\\Local\\Programs\\Python\\Python39\\lib\\site-packages\\pandas\\io\\parsers\\readers.py:575\u001b[0m, in \u001b[0;36m_read\u001b[1;34m(filepath_or_buffer, kwds)\u001b[0m\n\u001b[0;32m    <a href='file:///c%3A/Users/ASUS/AppData/Local/Programs/Python/Python39/lib/site-packages/pandas/io/parsers/readers.py?line=571'>572</a>\u001b[0m _validate_names(kwds\u001b[39m.\u001b[39mget(\u001b[39m\"\u001b[39m\u001b[39mnames\u001b[39m\u001b[39m\"\u001b[39m, \u001b[39mNone\u001b[39;00m))\n\u001b[0;32m    <a href='file:///c%3A/Users/ASUS/AppData/Local/Programs/Python/Python39/lib/site-packages/pandas/io/parsers/readers.py?line=573'>574</a>\u001b[0m \u001b[39m# Create the parser.\u001b[39;00m\n\u001b[1;32m--> <a href='file:///c%3A/Users/ASUS/AppData/Local/Programs/Python/Python39/lib/site-packages/pandas/io/parsers/readers.py?line=574'>575</a>\u001b[0m parser \u001b[39m=\u001b[39m TextFileReader(filepath_or_buffer, \u001b[39m*\u001b[39m\u001b[39m*\u001b[39mkwds)\n\u001b[0;32m    <a href='file:///c%3A/Users/ASUS/AppData/Local/Programs/Python/Python39/lib/site-packages/pandas/io/parsers/readers.py?line=576'>577</a>\u001b[0m \u001b[39mif\u001b[39;00m chunksize \u001b[39mor\u001b[39;00m iterator:\n\u001b[0;32m    <a href='file:///c%3A/Users/ASUS/AppData/Local/Programs/Python/Python39/lib/site-packages/pandas/io/parsers/readers.py?line=577'>578</a>\u001b[0m     \u001b[39mreturn\u001b[39;00m parser\n",
      "File \u001b[1;32mc:\\Users\\ASUS\\AppData\\Local\\Programs\\Python\\Python39\\lib\\site-packages\\pandas\\io\\parsers\\readers.py:933\u001b[0m, in \u001b[0;36mTextFileReader.__init__\u001b[1;34m(self, f, engine, **kwds)\u001b[0m\n\u001b[0;32m    <a href='file:///c%3A/Users/ASUS/AppData/Local/Programs/Python/Python39/lib/site-packages/pandas/io/parsers/readers.py?line=929'>930</a>\u001b[0m     \u001b[39mself\u001b[39m\u001b[39m.\u001b[39moptions[\u001b[39m\"\u001b[39m\u001b[39mhas_index_names\u001b[39m\u001b[39m\"\u001b[39m] \u001b[39m=\u001b[39m kwds[\u001b[39m\"\u001b[39m\u001b[39mhas_index_names\u001b[39m\u001b[39m\"\u001b[39m]\n\u001b[0;32m    <a href='file:///c%3A/Users/ASUS/AppData/Local/Programs/Python/Python39/lib/site-packages/pandas/io/parsers/readers.py?line=931'>932</a>\u001b[0m \u001b[39mself\u001b[39m\u001b[39m.\u001b[39mhandles: IOHandles \u001b[39m|\u001b[39m \u001b[39mNone\u001b[39;00m \u001b[39m=\u001b[39m \u001b[39mNone\u001b[39;00m\n\u001b[1;32m--> <a href='file:///c%3A/Users/ASUS/AppData/Local/Programs/Python/Python39/lib/site-packages/pandas/io/parsers/readers.py?line=932'>933</a>\u001b[0m \u001b[39mself\u001b[39m\u001b[39m.\u001b[39m_engine \u001b[39m=\u001b[39m \u001b[39mself\u001b[39;49m\u001b[39m.\u001b[39;49m_make_engine(f, \u001b[39mself\u001b[39;49m\u001b[39m.\u001b[39;49mengine)\n",
      "File \u001b[1;32mc:\\Users\\ASUS\\AppData\\Local\\Programs\\Python\\Python39\\lib\\site-packages\\pandas\\io\\parsers\\readers.py:1217\u001b[0m, in \u001b[0;36mTextFileReader._make_engine\u001b[1;34m(self, f, engine)\u001b[0m\n\u001b[0;32m   <a href='file:///c%3A/Users/ASUS/AppData/Local/Programs/Python/Python39/lib/site-packages/pandas/io/parsers/readers.py?line=1212'>1213</a>\u001b[0m     mode \u001b[39m=\u001b[39m \u001b[39m\"\u001b[39m\u001b[39mrb\u001b[39m\u001b[39m\"\u001b[39m\n\u001b[0;32m   <a href='file:///c%3A/Users/ASUS/AppData/Local/Programs/Python/Python39/lib/site-packages/pandas/io/parsers/readers.py?line=1213'>1214</a>\u001b[0m \u001b[39m# error: No overload variant of \"get_handle\" matches argument types\u001b[39;00m\n\u001b[0;32m   <a href='file:///c%3A/Users/ASUS/AppData/Local/Programs/Python/Python39/lib/site-packages/pandas/io/parsers/readers.py?line=1214'>1215</a>\u001b[0m \u001b[39m# \"Union[str, PathLike[str], ReadCsvBuffer[bytes], ReadCsvBuffer[str]]\"\u001b[39;00m\n\u001b[0;32m   <a href='file:///c%3A/Users/ASUS/AppData/Local/Programs/Python/Python39/lib/site-packages/pandas/io/parsers/readers.py?line=1215'>1216</a>\u001b[0m \u001b[39m# , \"str\", \"bool\", \"Any\", \"Any\", \"Any\", \"Any\", \"Any\"\u001b[39;00m\n\u001b[1;32m-> <a href='file:///c%3A/Users/ASUS/AppData/Local/Programs/Python/Python39/lib/site-packages/pandas/io/parsers/readers.py?line=1216'>1217</a>\u001b[0m \u001b[39mself\u001b[39m\u001b[39m.\u001b[39mhandles \u001b[39m=\u001b[39m get_handle(  \u001b[39m# type: ignore[call-overload]\u001b[39;49;00m\n\u001b[0;32m   <a href='file:///c%3A/Users/ASUS/AppData/Local/Programs/Python/Python39/lib/site-packages/pandas/io/parsers/readers.py?line=1217'>1218</a>\u001b[0m     f,\n\u001b[0;32m   <a href='file:///c%3A/Users/ASUS/AppData/Local/Programs/Python/Python39/lib/site-packages/pandas/io/parsers/readers.py?line=1218'>1219</a>\u001b[0m     mode,\n\u001b[0;32m   <a href='file:///c%3A/Users/ASUS/AppData/Local/Programs/Python/Python39/lib/site-packages/pandas/io/parsers/readers.py?line=1219'>1220</a>\u001b[0m     encoding\u001b[39m=\u001b[39;49m\u001b[39mself\u001b[39;49m\u001b[39m.\u001b[39;49moptions\u001b[39m.\u001b[39;49mget(\u001b[39m\"\u001b[39;49m\u001b[39mencoding\u001b[39;49m\u001b[39m\"\u001b[39;49m, \u001b[39mNone\u001b[39;49;00m),\n\u001b[0;32m   <a href='file:///c%3A/Users/ASUS/AppData/Local/Programs/Python/Python39/lib/site-packages/pandas/io/parsers/readers.py?line=1220'>1221</a>\u001b[0m     compression\u001b[39m=\u001b[39;49m\u001b[39mself\u001b[39;49m\u001b[39m.\u001b[39;49moptions\u001b[39m.\u001b[39;49mget(\u001b[39m\"\u001b[39;49m\u001b[39mcompression\u001b[39;49m\u001b[39m\"\u001b[39;49m, \u001b[39mNone\u001b[39;49;00m),\n\u001b[0;32m   <a href='file:///c%3A/Users/ASUS/AppData/Local/Programs/Python/Python39/lib/site-packages/pandas/io/parsers/readers.py?line=1221'>1222</a>\u001b[0m     memory_map\u001b[39m=\u001b[39;49m\u001b[39mself\u001b[39;49m\u001b[39m.\u001b[39;49moptions\u001b[39m.\u001b[39;49mget(\u001b[39m\"\u001b[39;49m\u001b[39mmemory_map\u001b[39;49m\u001b[39m\"\u001b[39;49m, \u001b[39mFalse\u001b[39;49;00m),\n\u001b[0;32m   <a href='file:///c%3A/Users/ASUS/AppData/Local/Programs/Python/Python39/lib/site-packages/pandas/io/parsers/readers.py?line=1222'>1223</a>\u001b[0m     is_text\u001b[39m=\u001b[39;49mis_text,\n\u001b[0;32m   <a href='file:///c%3A/Users/ASUS/AppData/Local/Programs/Python/Python39/lib/site-packages/pandas/io/parsers/readers.py?line=1223'>1224</a>\u001b[0m     errors\u001b[39m=\u001b[39;49m\u001b[39mself\u001b[39;49m\u001b[39m.\u001b[39;49moptions\u001b[39m.\u001b[39;49mget(\u001b[39m\"\u001b[39;49m\u001b[39mencoding_errors\u001b[39;49m\u001b[39m\"\u001b[39;49m, \u001b[39m\"\u001b[39;49m\u001b[39mstrict\u001b[39;49m\u001b[39m\"\u001b[39;49m),\n\u001b[0;32m   <a href='file:///c%3A/Users/ASUS/AppData/Local/Programs/Python/Python39/lib/site-packages/pandas/io/parsers/readers.py?line=1224'>1225</a>\u001b[0m     storage_options\u001b[39m=\u001b[39;49m\u001b[39mself\u001b[39;49m\u001b[39m.\u001b[39;49moptions\u001b[39m.\u001b[39;49mget(\u001b[39m\"\u001b[39;49m\u001b[39mstorage_options\u001b[39;49m\u001b[39m\"\u001b[39;49m, \u001b[39mNone\u001b[39;49;00m),\n\u001b[0;32m   <a href='file:///c%3A/Users/ASUS/AppData/Local/Programs/Python/Python39/lib/site-packages/pandas/io/parsers/readers.py?line=1225'>1226</a>\u001b[0m )\n\u001b[0;32m   <a href='file:///c%3A/Users/ASUS/AppData/Local/Programs/Python/Python39/lib/site-packages/pandas/io/parsers/readers.py?line=1226'>1227</a>\u001b[0m \u001b[39massert\u001b[39;00m \u001b[39mself\u001b[39m\u001b[39m.\u001b[39mhandles \u001b[39mis\u001b[39;00m \u001b[39mnot\u001b[39;00m \u001b[39mNone\u001b[39;00m\n\u001b[0;32m   <a href='file:///c%3A/Users/ASUS/AppData/Local/Programs/Python/Python39/lib/site-packages/pandas/io/parsers/readers.py?line=1227'>1228</a>\u001b[0m f \u001b[39m=\u001b[39m \u001b[39mself\u001b[39m\u001b[39m.\u001b[39mhandles\u001b[39m.\u001b[39mhandle\n",
      "File \u001b[1;32mc:\\Users\\ASUS\\AppData\\Local\\Programs\\Python\\Python39\\lib\\site-packages\\pandas\\io\\common.py:670\u001b[0m, in \u001b[0;36mget_handle\u001b[1;34m(path_or_buf, mode, encoding, compression, memory_map, is_text, errors, storage_options)\u001b[0m\n\u001b[0;32m    <a href='file:///c%3A/Users/ASUS/AppData/Local/Programs/Python/Python39/lib/site-packages/pandas/io/common.py?line=666'>667</a>\u001b[0m     codecs\u001b[39m.\u001b[39mlookup_error(errors)\n\u001b[0;32m    <a href='file:///c%3A/Users/ASUS/AppData/Local/Programs/Python/Python39/lib/site-packages/pandas/io/common.py?line=668'>669</a>\u001b[0m \u001b[39m# open URLs\u001b[39;00m\n\u001b[1;32m--> <a href='file:///c%3A/Users/ASUS/AppData/Local/Programs/Python/Python39/lib/site-packages/pandas/io/common.py?line=669'>670</a>\u001b[0m ioargs \u001b[39m=\u001b[39m _get_filepath_or_buffer(\n\u001b[0;32m    <a href='file:///c%3A/Users/ASUS/AppData/Local/Programs/Python/Python39/lib/site-packages/pandas/io/common.py?line=670'>671</a>\u001b[0m     path_or_buf,\n\u001b[0;32m    <a href='file:///c%3A/Users/ASUS/AppData/Local/Programs/Python/Python39/lib/site-packages/pandas/io/common.py?line=671'>672</a>\u001b[0m     encoding\u001b[39m=\u001b[39;49mencoding,\n\u001b[0;32m    <a href='file:///c%3A/Users/ASUS/AppData/Local/Programs/Python/Python39/lib/site-packages/pandas/io/common.py?line=672'>673</a>\u001b[0m     compression\u001b[39m=\u001b[39;49mcompression,\n\u001b[0;32m    <a href='file:///c%3A/Users/ASUS/AppData/Local/Programs/Python/Python39/lib/site-packages/pandas/io/common.py?line=673'>674</a>\u001b[0m     mode\u001b[39m=\u001b[39;49mmode,\n\u001b[0;32m    <a href='file:///c%3A/Users/ASUS/AppData/Local/Programs/Python/Python39/lib/site-packages/pandas/io/common.py?line=674'>675</a>\u001b[0m     storage_options\u001b[39m=\u001b[39;49mstorage_options,\n\u001b[0;32m    <a href='file:///c%3A/Users/ASUS/AppData/Local/Programs/Python/Python39/lib/site-packages/pandas/io/common.py?line=675'>676</a>\u001b[0m )\n\u001b[0;32m    <a href='file:///c%3A/Users/ASUS/AppData/Local/Programs/Python/Python39/lib/site-packages/pandas/io/common.py?line=677'>678</a>\u001b[0m handle \u001b[39m=\u001b[39m ioargs\u001b[39m.\u001b[39mfilepath_or_buffer\n\u001b[0;32m    <a href='file:///c%3A/Users/ASUS/AppData/Local/Programs/Python/Python39/lib/site-packages/pandas/io/common.py?line=678'>679</a>\u001b[0m handles: \u001b[39mlist\u001b[39m[BaseBuffer]\n",
      "File \u001b[1;32mc:\\Users\\ASUS\\AppData\\Local\\Programs\\Python\\Python39\\lib\\site-packages\\pandas\\io\\common.py:339\u001b[0m, in \u001b[0;36m_get_filepath_or_buffer\u001b[1;34m(filepath_or_buffer, encoding, compression, mode, storage_options)\u001b[0m\n\u001b[0;32m    <a href='file:///c%3A/Users/ASUS/AppData/Local/Programs/Python/Python39/lib/site-packages/pandas/io/common.py?line=336'>337</a>\u001b[0m \u001b[39m# assuming storage_options is to be interpreted as headers\u001b[39;00m\n\u001b[0;32m    <a href='file:///c%3A/Users/ASUS/AppData/Local/Programs/Python/Python39/lib/site-packages/pandas/io/common.py?line=337'>338</a>\u001b[0m req_info \u001b[39m=\u001b[39m urllib\u001b[39m.\u001b[39mrequest\u001b[39m.\u001b[39mRequest(filepath_or_buffer, headers\u001b[39m=\u001b[39mstorage_options)\n\u001b[1;32m--> <a href='file:///c%3A/Users/ASUS/AppData/Local/Programs/Python/Python39/lib/site-packages/pandas/io/common.py?line=338'>339</a>\u001b[0m \u001b[39mwith\u001b[39;00m urlopen(req_info) \u001b[39mas\u001b[39;00m req:\n\u001b[0;32m    <a href='file:///c%3A/Users/ASUS/AppData/Local/Programs/Python/Python39/lib/site-packages/pandas/io/common.py?line=339'>340</a>\u001b[0m     content_encoding \u001b[39m=\u001b[39m req\u001b[39m.\u001b[39mheaders\u001b[39m.\u001b[39mget(\u001b[39m\"\u001b[39m\u001b[39mContent-Encoding\u001b[39m\u001b[39m\"\u001b[39m, \u001b[39mNone\u001b[39;00m)\n\u001b[0;32m    <a href='file:///c%3A/Users/ASUS/AppData/Local/Programs/Python/Python39/lib/site-packages/pandas/io/common.py?line=340'>341</a>\u001b[0m     \u001b[39mif\u001b[39;00m content_encoding \u001b[39m==\u001b[39m \u001b[39m\"\u001b[39m\u001b[39mgzip\u001b[39m\u001b[39m\"\u001b[39m:\n\u001b[0;32m    <a href='file:///c%3A/Users/ASUS/AppData/Local/Programs/Python/Python39/lib/site-packages/pandas/io/common.py?line=341'>342</a>\u001b[0m         \u001b[39m# Override compression based on Content-Encoding header\u001b[39;00m\n",
      "File \u001b[1;32mc:\\Users\\ASUS\\AppData\\Local\\Programs\\Python\\Python39\\lib\\site-packages\\pandas\\io\\common.py:239\u001b[0m, in \u001b[0;36murlopen\u001b[1;34m(*args, **kwargs)\u001b[0m\n\u001b[0;32m    <a href='file:///c%3A/Users/ASUS/AppData/Local/Programs/Python/Python39/lib/site-packages/pandas/io/common.py?line=232'>233</a>\u001b[0m \u001b[39m\"\"\"\u001b[39;00m\n\u001b[0;32m    <a href='file:///c%3A/Users/ASUS/AppData/Local/Programs/Python/Python39/lib/site-packages/pandas/io/common.py?line=233'>234</a>\u001b[0m \u001b[39mLazy-import wrapper for stdlib urlopen, as that imports a big chunk of\u001b[39;00m\n\u001b[0;32m    <a href='file:///c%3A/Users/ASUS/AppData/Local/Programs/Python/Python39/lib/site-packages/pandas/io/common.py?line=234'>235</a>\u001b[0m \u001b[39mthe stdlib.\u001b[39;00m\n\u001b[0;32m    <a href='file:///c%3A/Users/ASUS/AppData/Local/Programs/Python/Python39/lib/site-packages/pandas/io/common.py?line=235'>236</a>\u001b[0m \u001b[39m\"\"\"\u001b[39;00m\n\u001b[0;32m    <a href='file:///c%3A/Users/ASUS/AppData/Local/Programs/Python/Python39/lib/site-packages/pandas/io/common.py?line=236'>237</a>\u001b[0m \u001b[39mimport\u001b[39;00m \u001b[39murllib\u001b[39;00m\u001b[39m.\u001b[39;00m\u001b[39mrequest\u001b[39;00m\n\u001b[1;32m--> <a href='file:///c%3A/Users/ASUS/AppData/Local/Programs/Python/Python39/lib/site-packages/pandas/io/common.py?line=238'>239</a>\u001b[0m \u001b[39mreturn\u001b[39;00m urllib\u001b[39m.\u001b[39mrequest\u001b[39m.\u001b[39murlopen(\u001b[39m*\u001b[39margs, \u001b[39m*\u001b[39m\u001b[39m*\u001b[39mkwargs)\n",
      "File \u001b[1;32mc:\\Users\\ASUS\\AppData\\Local\\Programs\\Python\\Python39\\lib\\urllib\\request.py:214\u001b[0m, in \u001b[0;36murlopen\u001b[1;34m(url, data, timeout, cafile, capath, cadefault, context)\u001b[0m\n\u001b[0;32m    <a href='file:///c%3A/Users/ASUS/AppData/Local/Programs/Python/Python39/lib/urllib/request.py?line=211'>212</a>\u001b[0m \u001b[39melse\u001b[39;00m:\n\u001b[0;32m    <a href='file:///c%3A/Users/ASUS/AppData/Local/Programs/Python/Python39/lib/urllib/request.py?line=212'>213</a>\u001b[0m     opener \u001b[39m=\u001b[39m _opener\n\u001b[1;32m--> <a href='file:///c%3A/Users/ASUS/AppData/Local/Programs/Python/Python39/lib/urllib/request.py?line=213'>214</a>\u001b[0m \u001b[39mreturn\u001b[39;00m opener\u001b[39m.\u001b[39;49mopen(url, data, timeout)\n",
      "File \u001b[1;32mc:\\Users\\ASUS\\AppData\\Local\\Programs\\Python\\Python39\\lib\\urllib\\request.py:523\u001b[0m, in \u001b[0;36mOpenerDirector.open\u001b[1;34m(self, fullurl, data, timeout)\u001b[0m\n\u001b[0;32m    <a href='file:///c%3A/Users/ASUS/AppData/Local/Programs/Python/Python39/lib/urllib/request.py?line=520'>521</a>\u001b[0m \u001b[39mfor\u001b[39;00m processor \u001b[39min\u001b[39;00m \u001b[39mself\u001b[39m\u001b[39m.\u001b[39mprocess_response\u001b[39m.\u001b[39mget(protocol, []):\n\u001b[0;32m    <a href='file:///c%3A/Users/ASUS/AppData/Local/Programs/Python/Python39/lib/urllib/request.py?line=521'>522</a>\u001b[0m     meth \u001b[39m=\u001b[39m \u001b[39mgetattr\u001b[39m(processor, meth_name)\n\u001b[1;32m--> <a href='file:///c%3A/Users/ASUS/AppData/Local/Programs/Python/Python39/lib/urllib/request.py?line=522'>523</a>\u001b[0m     response \u001b[39m=\u001b[39m meth(req, response)\n\u001b[0;32m    <a href='file:///c%3A/Users/ASUS/AppData/Local/Programs/Python/Python39/lib/urllib/request.py?line=524'>525</a>\u001b[0m \u001b[39mreturn\u001b[39;00m response\n",
      "File \u001b[1;32mc:\\Users\\ASUS\\AppData\\Local\\Programs\\Python\\Python39\\lib\\urllib\\request.py:632\u001b[0m, in \u001b[0;36mHTTPErrorProcessor.http_response\u001b[1;34m(self, request, response)\u001b[0m\n\u001b[0;32m    <a href='file:///c%3A/Users/ASUS/AppData/Local/Programs/Python/Python39/lib/urllib/request.py?line=628'>629</a>\u001b[0m \u001b[39m# According to RFC 2616, \"2xx\" code indicates that the client's\u001b[39;00m\n\u001b[0;32m    <a href='file:///c%3A/Users/ASUS/AppData/Local/Programs/Python/Python39/lib/urllib/request.py?line=629'>630</a>\u001b[0m \u001b[39m# request was successfully received, understood, and accepted.\u001b[39;00m\n\u001b[0;32m    <a href='file:///c%3A/Users/ASUS/AppData/Local/Programs/Python/Python39/lib/urllib/request.py?line=630'>631</a>\u001b[0m \u001b[39mif\u001b[39;00m \u001b[39mnot\u001b[39;00m (\u001b[39m200\u001b[39m \u001b[39m<\u001b[39m\u001b[39m=\u001b[39m code \u001b[39m<\u001b[39m \u001b[39m300\u001b[39m):\n\u001b[1;32m--> <a href='file:///c%3A/Users/ASUS/AppData/Local/Programs/Python/Python39/lib/urllib/request.py?line=631'>632</a>\u001b[0m     response \u001b[39m=\u001b[39m \u001b[39mself\u001b[39;49m\u001b[39m.\u001b[39;49mparent\u001b[39m.\u001b[39;49merror(\n\u001b[0;32m    <a href='file:///c%3A/Users/ASUS/AppData/Local/Programs/Python/Python39/lib/urllib/request.py?line=632'>633</a>\u001b[0m         \u001b[39m'\u001b[39;49m\u001b[39mhttp\u001b[39;49m\u001b[39m'\u001b[39;49m, request, response, code, msg, hdrs)\n\u001b[0;32m    <a href='file:///c%3A/Users/ASUS/AppData/Local/Programs/Python/Python39/lib/urllib/request.py?line=634'>635</a>\u001b[0m \u001b[39mreturn\u001b[39;00m response\n",
      "File \u001b[1;32mc:\\Users\\ASUS\\AppData\\Local\\Programs\\Python\\Python39\\lib\\urllib\\request.py:561\u001b[0m, in \u001b[0;36mOpenerDirector.error\u001b[1;34m(self, proto, *args)\u001b[0m\n\u001b[0;32m    <a href='file:///c%3A/Users/ASUS/AppData/Local/Programs/Python/Python39/lib/urllib/request.py?line=558'>559</a>\u001b[0m \u001b[39mif\u001b[39;00m http_err:\n\u001b[0;32m    <a href='file:///c%3A/Users/ASUS/AppData/Local/Programs/Python/Python39/lib/urllib/request.py?line=559'>560</a>\u001b[0m     args \u001b[39m=\u001b[39m (\u001b[39mdict\u001b[39m, \u001b[39m'\u001b[39m\u001b[39mdefault\u001b[39m\u001b[39m'\u001b[39m, \u001b[39m'\u001b[39m\u001b[39mhttp_error_default\u001b[39m\u001b[39m'\u001b[39m) \u001b[39m+\u001b[39m orig_args\n\u001b[1;32m--> <a href='file:///c%3A/Users/ASUS/AppData/Local/Programs/Python/Python39/lib/urllib/request.py?line=560'>561</a>\u001b[0m     \u001b[39mreturn\u001b[39;00m \u001b[39mself\u001b[39;49m\u001b[39m.\u001b[39;49m_call_chain(\u001b[39m*\u001b[39;49margs)\n",
      "File \u001b[1;32mc:\\Users\\ASUS\\AppData\\Local\\Programs\\Python\\Python39\\lib\\urllib\\request.py:494\u001b[0m, in \u001b[0;36mOpenerDirector._call_chain\u001b[1;34m(self, chain, kind, meth_name, *args)\u001b[0m\n\u001b[0;32m    <a href='file:///c%3A/Users/ASUS/AppData/Local/Programs/Python/Python39/lib/urllib/request.py?line=491'>492</a>\u001b[0m \u001b[39mfor\u001b[39;00m handler \u001b[39min\u001b[39;00m handlers:\n\u001b[0;32m    <a href='file:///c%3A/Users/ASUS/AppData/Local/Programs/Python/Python39/lib/urllib/request.py?line=492'>493</a>\u001b[0m     func \u001b[39m=\u001b[39m \u001b[39mgetattr\u001b[39m(handler, meth_name)\n\u001b[1;32m--> <a href='file:///c%3A/Users/ASUS/AppData/Local/Programs/Python/Python39/lib/urllib/request.py?line=493'>494</a>\u001b[0m     result \u001b[39m=\u001b[39m func(\u001b[39m*\u001b[39;49margs)\n\u001b[0;32m    <a href='file:///c%3A/Users/ASUS/AppData/Local/Programs/Python/Python39/lib/urllib/request.py?line=494'>495</a>\u001b[0m     \u001b[39mif\u001b[39;00m result \u001b[39mis\u001b[39;00m \u001b[39mnot\u001b[39;00m \u001b[39mNone\u001b[39;00m:\n\u001b[0;32m    <a href='file:///c%3A/Users/ASUS/AppData/Local/Programs/Python/Python39/lib/urllib/request.py?line=495'>496</a>\u001b[0m         \u001b[39mreturn\u001b[39;00m result\n",
      "File \u001b[1;32mc:\\Users\\ASUS\\AppData\\Local\\Programs\\Python\\Python39\\lib\\urllib\\request.py:641\u001b[0m, in \u001b[0;36mHTTPDefaultErrorHandler.http_error_default\u001b[1;34m(self, req, fp, code, msg, hdrs)\u001b[0m\n\u001b[0;32m    <a href='file:///c%3A/Users/ASUS/AppData/Local/Programs/Python/Python39/lib/urllib/request.py?line=639'>640</a>\u001b[0m \u001b[39mdef\u001b[39;00m \u001b[39mhttp_error_default\u001b[39m(\u001b[39mself\u001b[39m, req, fp, code, msg, hdrs):\n\u001b[1;32m--> <a href='file:///c%3A/Users/ASUS/AppData/Local/Programs/Python/Python39/lib/urllib/request.py?line=640'>641</a>\u001b[0m     \u001b[39mraise\u001b[39;00m HTTPError(req\u001b[39m.\u001b[39mfull_url, code, msg, hdrs, fp)\n",
      "\u001b[1;31mHTTPError\u001b[0m: HTTP Error 404: Not Found"
     ]
    }
   ],
   "source": [
    "# Load Series\n",
    "GOOGL=pd.read_csv(\"E:/Laurea Magistrale/Artificial intelligence and deep learning/Esame/Financial Series/GOOGL.csv\")\n",
    "NKE = pd.read_csv(\"E:/Laurea Magistrale/Artificial intelligence and deep learning/Esame/Financial Series/NKE.csv\")\n",
    "HD = pd.read_csv(\"E:/Laurea Magistrale/Artificial intelligence and deep learning/Esame/Financial Series/HD.csv\")\n",
    "JPM = pd.read_csv(\"E:/Laurea Magistrale/Artificial intelligence and deep learning/Esame/Financial Series/JPM.csv\")\n",
    "BA= pd.read_csv(\"E:/Laurea Magistrale/Artificial intelligence and deep learning/Esame/Financial Series/BA.csv\")\n",
    "JNJ = pd.read_csv(\"E:/Laurea Magistrale/Artificial intelligence and deep learning/Esame/Financial Series/JNJ.csv\")\n",
    "AAPL=pd.read_csv(\"E:/Laurea Magistrale/Artificial intelligence and deep learning/Esame/Financial Series/AAPL.csv\")\n",
    "INTC=pd.read_csv(\"E:/Laurea Magistrale/Artificial intelligence and deep learning/Esame/Financial Series/INTC.csv\")\n",
    "MCD=pd.read_csv(\"E:/Laurea Magistrale/Artificial intelligence and deep learning/Esame/Financial Series/MCD.csv\")\n",
    "TRV=pd.read_csv(\"E:/Laurea Magistrale/Artificial intelligence and deep learning/Esame/Financial Series/TRV.csv\")"
   ]
  },
  {
   "cell_type": "code",
   "execution_count": 10,
   "metadata": {},
   "outputs": [
    {
     "data": {
      "text/html": [
       "<div>\n",
       "<style scoped>\n",
       "    .dataframe tbody tr th:only-of-type {\n",
       "        vertical-align: middle;\n",
       "    }\n",
       "\n",
       "    .dataframe tbody tr th {\n",
       "        vertical-align: top;\n",
       "    }\n",
       "\n",
       "    .dataframe thead th {\n",
       "        text-align: right;\n",
       "    }\n",
       "</style>\n",
       "<table border=\"1\" class=\"dataframe\">\n",
       "  <thead>\n",
       "    <tr style=\"text-align: right;\">\n",
       "      <th></th>\n",
       "      <th>Date</th>\n",
       "      <th>Open</th>\n",
       "      <th>High</th>\n",
       "      <th>Low</th>\n",
       "      <th>Close</th>\n",
       "      <th>Adj Close</th>\n",
       "      <th>Volume</th>\n",
       "    </tr>\n",
       "  </thead>\n",
       "  <tbody>\n",
       "    <tr>\n",
       "      <th>0</th>\n",
       "      <td>2008-06-16</td>\n",
       "      <td>283.533539</td>\n",
       "      <td>289.839844</td>\n",
       "      <td>283.533539</td>\n",
       "      <td>286.691681</td>\n",
       "      <td>286.691681</td>\n",
       "      <td>7078514</td>\n",
       "    </tr>\n",
       "    <tr>\n",
       "      <th>1</th>\n",
       "      <td>2008-06-17</td>\n",
       "      <td>288.463470</td>\n",
       "      <td>289.324310</td>\n",
       "      <td>284.474487</td>\n",
       "      <td>285.015015</td>\n",
       "      <td>285.015015</td>\n",
       "      <td>6918874</td>\n",
       "    </tr>\n",
       "    <tr>\n",
       "      <th>2</th>\n",
       "      <td>2008-06-18</td>\n",
       "      <td>282.537537</td>\n",
       "      <td>284.779785</td>\n",
       "      <td>279.859863</td>\n",
       "      <td>281.471466</td>\n",
       "      <td>281.471466</td>\n",
       "      <td>6755638</td>\n",
       "    </tr>\n",
       "    <tr>\n",
       "      <th>3</th>\n",
       "      <td>2008-06-19</td>\n",
       "      <td>277.952942</td>\n",
       "      <td>282.172180</td>\n",
       "      <td>275.680695</td>\n",
       "      <td>280.380371</td>\n",
       "      <td>280.380371</td>\n",
       "      <td>11354834</td>\n",
       "    </tr>\n",
       "    <tr>\n",
       "      <th>4</th>\n",
       "      <td>2008-06-20</td>\n",
       "      <td>278.768768</td>\n",
       "      <td>278.768768</td>\n",
       "      <td>272.527527</td>\n",
       "      <td>273.488495</td>\n",
       "      <td>273.488495</td>\n",
       "      <td>11954234</td>\n",
       "    </tr>\n",
       "  </tbody>\n",
       "</table>\n",
       "</div>"
      ],
      "text/plain": [
       "         Date        Open        High         Low       Close   Adj Close  \\\n",
       "0  2008-06-16  283.533539  289.839844  283.533539  286.691681  286.691681   \n",
       "1  2008-06-17  288.463470  289.324310  284.474487  285.015015  285.015015   \n",
       "2  2008-06-18  282.537537  284.779785  279.859863  281.471466  281.471466   \n",
       "3  2008-06-19  277.952942  282.172180  275.680695  280.380371  280.380371   \n",
       "4  2008-06-20  278.768768  278.768768  272.527527  273.488495  273.488495   \n",
       "\n",
       "     Volume  \n",
       "0   7078514  \n",
       "1   6918874  \n",
       "2   6755638  \n",
       "3  11354834  \n",
       "4  11954234  "
      ]
     },
     "execution_count": 10,
     "metadata": {},
     "output_type": "execute_result"
    }
   ],
   "source": [
    "GOOGL.head()"
   ]
  }
 ],
 "metadata": {
  "interpreter": {
   "hash": "14958d3aee5f1cad06795f787e54b96185c25fb40dfec723a5be941f3a531b8c"
  },
  "kernelspec": {
   "display_name": "Python 3.9.12 64-bit",
   "language": "python",
   "name": "python3"
  },
  "language_info": {
   "codemirror_mode": {
    "name": "ipython",
    "version": 3
   },
   "file_extension": ".py",
   "mimetype": "text/x-python",
   "name": "python",
   "nbconvert_exporter": "python",
   "pygments_lexer": "ipython3",
   "version": "3.9.12"
  },
  "orig_nbformat": 4
 },
 "nbformat": 4,
 "nbformat_minor": 2
}
