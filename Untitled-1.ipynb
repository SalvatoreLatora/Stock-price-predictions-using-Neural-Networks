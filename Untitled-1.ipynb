{
 "cells": [
  {
   "cell_type": "code",
   "execution_count": 4,
   "metadata": {},
   "outputs": [],
   "source": [
    "import pandas as pd\n",
    "import numpy as np\n",
    "import matplotlib.pyplot as plt\n",
    "import seaborn as sns\n",
    "import yfinance as yf\n",
    "import datetime\n",
    "import warnings\n",
    "from statsmodels.graphics.tsaplots import plot_acf, plot_pacf\n",
    "from statsmodels.tsa.vector_ar.vecm import coint_johansen\n",
    "from statsmodels.tsa.stattools import adfuller\n",
    "from statsmodels.tsa.seasonal import seasonal_decompose\n",
    "from statsmodels.tsa.arima.model import ARIMA\n",
    "#from pyramid.arima import auto_arima\n",
    "from sklearn.metrics import mean_squared_error"
   ]
  },
  {
   "cell_type": "code",
   "execution_count": 5,
   "metadata": {},
   "outputs": [
    {
     "data": {
      "text/html": [
       "<div>\n",
       "<style scoped>\n",
       "    .dataframe tbody tr th:only-of-type {\n",
       "        vertical-align: middle;\n",
       "    }\n",
       "\n",
       "    .dataframe tbody tr th {\n",
       "        vertical-align: top;\n",
       "    }\n",
       "\n",
       "    .dataframe thead th {\n",
       "        text-align: right;\n",
       "    }\n",
       "</style>\n",
       "<table border=\"1\" class=\"dataframe\">\n",
       "  <thead>\n",
       "    <tr style=\"text-align: right;\">\n",
       "      <th></th>\n",
       "      <th>Open</th>\n",
       "      <th>High</th>\n",
       "      <th>Low</th>\n",
       "      <th>Close</th>\n",
       "      <th>Volume</th>\n",
       "      <th>Dividends</th>\n",
       "      <th>Stock Splits</th>\n",
       "    </tr>\n",
       "    <tr>\n",
       "      <th>Date</th>\n",
       "      <th></th>\n",
       "      <th></th>\n",
       "      <th></th>\n",
       "      <th></th>\n",
       "      <th></th>\n",
       "      <th></th>\n",
       "      <th></th>\n",
       "    </tr>\n",
       "  </thead>\n",
       "  <tbody>\n",
       "    <tr>\n",
       "      <th>2009-12-31</th>\n",
       "      <td>6.508214</td>\n",
       "      <td>6.514932</td>\n",
       "      <td>6.429735</td>\n",
       "      <td>6.434926</td>\n",
       "      <td>352410800</td>\n",
       "      <td>0.0</td>\n",
       "      <td>0.0</td>\n",
       "    </tr>\n",
       "    <tr>\n",
       "      <th>2010-01-04</th>\n",
       "      <td>6.517373</td>\n",
       "      <td>6.550047</td>\n",
       "      <td>6.485310</td>\n",
       "      <td>6.535084</td>\n",
       "      <td>493729600</td>\n",
       "      <td>0.0</td>\n",
       "      <td>0.0</td>\n",
       "    </tr>\n",
       "    <tr>\n",
       "      <th>2010-01-05</th>\n",
       "      <td>6.553103</td>\n",
       "      <td>6.583334</td>\n",
       "      <td>6.511878</td>\n",
       "      <td>6.546385</td>\n",
       "      <td>601904800</td>\n",
       "      <td>0.0</td>\n",
       "      <td>0.0</td>\n",
       "    </tr>\n",
       "    <tr>\n",
       "      <th>2010-01-06</th>\n",
       "      <td>6.546384</td>\n",
       "      <td>6.572340</td>\n",
       "      <td>6.435537</td>\n",
       "      <td>6.442255</td>\n",
       "      <td>552160000</td>\n",
       "      <td>0.0</td>\n",
       "      <td>0.0</td>\n",
       "    </tr>\n",
       "    <tr>\n",
       "      <th>2010-01-07</th>\n",
       "      <td>6.466075</td>\n",
       "      <td>6.473709</td>\n",
       "      <td>6.383626</td>\n",
       "      <td>6.430347</td>\n",
       "      <td>477131200</td>\n",
       "      <td>0.0</td>\n",
       "      <td>0.0</td>\n",
       "    </tr>\n",
       "  </tbody>\n",
       "</table>\n",
       "</div>"
      ],
      "text/plain": [
       "                Open      High       Low     Close     Volume  Dividends  \\\n",
       "Date                                                                       \n",
       "2009-12-31  6.508214  6.514932  6.429735  6.434926  352410800        0.0   \n",
       "2010-01-04  6.517373  6.550047  6.485310  6.535084  493729600        0.0   \n",
       "2010-01-05  6.553103  6.583334  6.511878  6.546385  601904800        0.0   \n",
       "2010-01-06  6.546384  6.572340  6.435537  6.442255  552160000        0.0   \n",
       "2010-01-07  6.466075  6.473709  6.383626  6.430347  477131200        0.0   \n",
       "\n",
       "            Stock Splits  \n",
       "Date                      \n",
       "2009-12-31           0.0  \n",
       "2010-01-04           0.0  \n",
       "2010-01-05           0.0  \n",
       "2010-01-06           0.0  \n",
       "2010-01-07           0.0  "
      ]
     },
     "execution_count": 5,
     "metadata": {},
     "output_type": "execute_result"
    }
   ],
   "source": [
    "AAPL = yf.Ticker('AAPL')\n",
    "AAPL = AAPL.history(start='2010-01-01',end='2020-12-31')\n",
    "AAPL.head()"
   ]
  },
  {
   "cell_type": "code",
   "execution_count": 6,
   "metadata": {},
   "outputs": [],
   "source": [
    "def evaluate_arima_model(X, arima_order):\n",
    "    # prepare training dataset\n",
    "    train_size = int(len(X) * 0.90)\n",
    "    train, test = X[0:train_size], X[train_size:]\n",
    "    history = [x for x in train]\n",
    "    # make predictions\n",
    "    predictions = list()\n",
    "    for t in range(len(test)):\n",
    "        model = ARIMA(history, order=arima_order)\n",
    "        model_fit = model.fit(disp=0)\n",
    "        yhat = model_fit.forecast()[0]\n",
    "        predictions.append(yhat)\n",
    "        history.append(test[t])\n",
    "    # calculate out of sample error\n",
    "    error = mean_squared_error(test, predictions)\n",
    "    return error\n",
    "\n",
    "# evaluate combinations of p, d and q values for an ARIMA model\n",
    "def evaluate_models(dataset, p_values, d_values, q_values):\n",
    "    dataset = dataset.astype('float32')\n",
    "    best_score, best_cfg = float(\"inf\"), None\n",
    "    for p in p_values:\n",
    "        for d in d_values:\n",
    "            for q in q_values:\n",
    "                order = (p,d,q)\n",
    "                try:\n",
    "                    mse = evaluate_arima_model(dataset, order)\n",
    "                    if mse < best_score:\n",
    "                        best_score, best_cfg = mse, order\n",
    "                    print('ARIMA%s MSE=%.3f' % (order,mse))\n",
    "                except:\n",
    "                    continue\n",
    "    print('Best ARIMA%s MSE=%.3f' % (best_cfg, best_score))"
   ]
  },
  {
   "cell_type": "code",
   "execution_count": 7,
   "metadata": {},
   "outputs": [
    {
     "name": "stdout",
     "output_type": "stream",
     "text": [
      "Best ARIMANone MSE=inf\n"
     ]
    }
   ],
   "source": [
    "p_values = [4,5,6,7,8]\n",
    "d_values = [0,1,2]\n",
    "q_values = [2,3,4,5,6]\n",
    "warnings.filterwarnings(\"ignore\")\n",
    "evaluate_models(AAPL['Open'], p_values, d_values, q_values)"
   ]
  },
  {
   "cell_type": "code",
   "execution_count": 8,
   "metadata": {},
   "outputs": [
    {
     "ename": "NameError",
     "evalue": "name 'params' is not defined",
     "output_type": "error",
     "traceback": [
      "\u001b[1;31m---------------------------------------------------------------------------\u001b[0m",
      "\u001b[1;31mNameError\u001b[0m                                 Traceback (most recent call last)",
      "\u001b[1;32mSalvatoreLatora\\Stock-price-predictions-using-Neural-Networks\\Untitled-1.ipynb Cell 5'\u001b[0m in \u001b[0;36m<cell line: 8>\u001b[1;34m()\u001b[0m\n\u001b[0;32m      <a href='vscode-notebook-cell://github/SalvatoreLatora/Stock-price-predictions-using-Neural-Networks/Untitled-1.ipynb#ch0000004vscode-vfs?line=5'>6</a>\u001b[0m \u001b[39mfrom\u001b[39;00m \u001b[39mscipy\u001b[39;00m\u001b[39m.\u001b[39;00m\u001b[39moptimize\u001b[39;00m \u001b[39mimport\u001b[39;00m brute\n\u001b[0;32m      <a href='vscode-notebook-cell://github/SalvatoreLatora/Stock-price-predictions-using-Neural-Networks/Untitled-1.ipynb#ch0000004vscode-vfs?line=6'>7</a>\u001b[0m grid \u001b[39m=\u001b[39m (\u001b[39mslice\u001b[39m(\u001b[39m1\u001b[39m, \u001b[39m3\u001b[39m, \u001b[39m1\u001b[39m), \u001b[39mslice\u001b[39m(\u001b[39m1\u001b[39m, \u001b[39m3\u001b[39m, \u001b[39m1\u001b[39m), \u001b[39mslice\u001b[39m(\u001b[39m1\u001b[39m, \u001b[39m3\u001b[39m, \u001b[39m1\u001b[39m))\n\u001b[1;32m----> <a href='vscode-notebook-cell://github/SalvatoreLatora/Stock-price-predictions-using-Neural-Networks/Untitled-1.ipynb#ch0000004vscode-vfs?line=7'>8</a>\u001b[0m brute(objfunc, grid, args\u001b[39m=\u001b[39mparams, finish\u001b[39m=\u001b[39m\u001b[39mNone\u001b[39;00m)\n",
      "\u001b[1;31mNameError\u001b[0m: name 'params' is not defined"
     ]
    }
   ],
   "source": [
    "def objfunc(order,*params ):    \n",
    "    from statsmodels.tsa.arima_model import ARIMA   \n",
    "    p,d,q = order   \n",
    "    fit = ARIMA(AAPL['Open'], order, exog).fit()  \n",
    "    return fit.aic()    \n",
    "from scipy.optimize import brute\n",
    "grid = (slice(1, 3, 1), slice(1, 3, 1), slice(1, 3, 1))\n",
    "brute(objfunc, grid, args=params, finish=None)"
   ]
  },
  {
   "cell_type": "code",
   "execution_count": null,
   "metadata": {},
   "outputs": [],
   "source": [
    "## AAPL\n",
    "modello_AAPL = ARIMA(train, order = (1,1,0)).fit()\n",
    "modello_AAPL.summary()\n",
    "modello_AAPL.forecast(steps = 16)\n",
    "#mean_squared_error(test.head(16), modello_AAPL.forecast(16))"
   ]
  },
  {
   "cell_type": "code",
   "execution_count": null,
   "metadata": {},
   "outputs": [],
   "source": [
    "\n",
    "\n",
    "results={}\n",
    "order = list(product(p_values, d_values , q_values))\n",
    "for param in order:\n",
    "    try:\n",
    "        modello_AAPL = ARIMA(train, \n",
    "        order = param)\n",
    "        results = modello_AAPL.fit()\n",
    "        print(\"Arima {} - AIC:{}\".format(param, results.aic))\n",
    "    except:\n",
    "        continue     \n",
    "\n"
   ]
  },
  {
   "cell_type": "code",
   "execution_count": null,
   "metadata": {},
   "outputs": [],
   "source": [
    "# cerco per ogni serie il miglior modello ARIMA e valuto le previsioni tramite MSE.\n",
    "# Utilizzo come serie 1 anno; dal 1-01-2021 al 31-12-2021; come finestra previsiva utilizzo 10 giorni\n",
    "# Utilizzo una griglia di ricerca dei parametri\n",
    "# definizione della finestra temporale per train e test set\n",
    "\n",
    "## Definizione de train e test set\n",
    "finestra=AAPL.index.to_series().between('2020-01-01', '2020-12-31')\n",
    "train_size = int(len(AAPL[finestra]) * 0.90)\n",
    "train, test = AAPL['Open'][0:train_size], AAPL['Open'][train_size:]\n",
    "predictions = {}\n",
    "p_values = [0,1,2,3,4,5]\n",
    "d_values = [0,1,2]\n",
    "q_values = [0,1,2,3,4,5]\n",
    "for p in p_values:\n",
    "        for d in d_values:\n",
    "            for q in q_values:\n",
    "                arima_order = (p,d,q)\n",
    "                model = ARIMA(train, order=arima_order)\n",
    "                model_fit = model.fit()\n",
    "                aic = model_fit.aic\n",
    "                yhat = model_fit.forecast()\n",
    "                #predictions.append(yhat)\n",
    "                mse = mean_squared_error(test, yhat)\n",
    "                print({arima_order, mse, aic})"
   ]
  },
  {
   "cell_type": "code",
   "execution_count": null,
   "metadata": {},
   "outputs": [],
   "source": [
    "\n",
    "#best_models={}\n",
    "#for s in series2.columns.values:\n",
    "#    models = {}\n",
    "#    for i in p:\n",
    "#        for j in q:\n",
    "#            order = (i,d,j)\n",
    "#            model= ARIMA(train[s],order=order)\n",
    "#            model_fit = model.fit()\n",
    "#            aic=model_fit.aic\n",
    "#            print(order, aic)"
   ]
  },
  {
   "cell_type": "code",
   "execution_count": null,
   "metadata": {},
   "outputs": [],
   "source": [
    "def to_supervised(train, n_input, n_out=5):\n",
    "\t# flatten data\n",
    "\tdata = train.reshape((train.shape[0]*train.shape[1], 1))\n",
    "\tX, y = list(), list()\n",
    "\tin_start = 0\n",
    "\t# step over the entire history one time step at a time\n",
    "\tfor _ in range(len(data)):\n",
    "\t\t# define the end of the input sequence\n",
    "\t\tin_end = in_start + n_input\n",
    "\t\tout_end = in_end + n_out\n",
    "\t\t# ensure we have enough data for this instance\n",
    "\t\tif out_end <= len(data):\n",
    "\t\t\tx_input = data[in_start:in_end, 0]\n",
    "\t\t\tx_input = x_input.reshape((len(x_input), 1))\n",
    "\t\t\tX.append(x_input)\n",
    "\t\t\ty.append(data[in_end:out_end, 0])\n",
    "\t\t# move along one time step\n",
    "\t\tin_start += 1\n",
    "\treturn np.array(X), np.array(y)"
   ]
  }
 ],
 "metadata": {
  "kernelspec": {
   "display_name": "Python 3.9.12 64-bit",
   "language": "python",
   "name": "python3"
  },
  "language_info": {
   "codemirror_mode": {
    "name": "ipython",
    "version": 3
   },
   "file_extension": ".py",
   "mimetype": "text/x-python",
   "name": "python",
   "nbconvert_exporter": "python",
   "pygments_lexer": "ipython3",
   "version": "3.9.12"
  },
  "orig_nbformat": 4,
  "vscode": {
   "interpreter": {
    "hash": "14958d3aee5f1cad06795f787e54b96185c25fb40dfec723a5be941f3a531b8c"
   }
  }
 },
 "nbformat": 4,
 "nbformat_minor": 2
}
